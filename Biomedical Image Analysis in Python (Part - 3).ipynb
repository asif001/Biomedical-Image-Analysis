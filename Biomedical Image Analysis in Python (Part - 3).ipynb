{
 "cells": [
  {
   "cell_type": "markdown",
   "metadata": {},
   "source": [
    "<h1>Biomedical Image Analysis in Python (Part - 3)</h1>\n",
    "<h3>by Sakib Reza<h3>\n",
    "<h2>Segment the Heart</h2>\n",
    "Here, we'll work with <b>magnetic resonance (MR)</b> imaging data from the <b>Sunnybrook Cardiac Dataset</b>. The full image is a 3D time series spanning a single heartbeat. These data are used by radiologists to measure the ejection fraction: the proportion of blood ejected from the left ventricle during each stroke.\n",
    "\n",
    "To begin, segment the left ventricle from a single slice of the volume (im). First, you'll filter and mask the image; then you'll label each object with ndi.label().\n",
    "<img src=\"img14.jpg\">"
   ]
  },
  {
   "cell_type": "code",
   "execution_count": null,
   "metadata": {},
   "outputs": [],
   "source": [
    "import imageio\n",
    "import numpy as np\n",
    "import scipy.ndimage as ndi\n",
    "import matplotlib.pyplot as plt\n",
    "\n",
    "# Smooth intensity values\n",
    "im_filt = ndi.median_filter(im, size=3)\n",
    "\n",
    "# Select high-intensity pixels\n",
    "mask_start = np.where(im_filt>60, 1, 0)\n",
    "mask = ndi.binary_closing(mask_start)\n",
    "\n",
    "# Label the objects in \"mask\"\n",
    "labels, nlabels = ndi.label(mask)\n",
    "print('Num. Labels:',nlabels)\n",
    "\n",
    "# Create a `labels` overlay\n",
    "overlay = np.where(labels>0, labels, np.nan)\n",
    "\n",
    "# Use imshow to plot the overlay\n",
    "plt.imshow(overlay, cmap='rainbow', alpha=0.75)\n",
    "format_and_render_plot()"
   ]
  },
  {
   "cell_type": "markdown",
   "metadata": {},
   "source": [
    "<b>Output:</b><br>\n",
    "Num. Labels: 26\n",
    "<img src=\"img15.jpg\">"
   ]
  },
  {
   "cell_type": "markdown",
   "metadata": {},
   "source": [
    "<h2>Select objects</h2>\n",
    "Labels are like object \"handles\" - they give you a way to pick up whole sets of pixels at a time. To select a particular object:\n",
    "\n",
    "1. Find the label value associated with the object.<br>\n",
    "2. Create a mask of matching pixels.<br>\n",
    "\n",
    "Here we will create a labeled array from the provided mask. Then, find the label value for the centrally-located left ventricle, and create a mask for it.\n",
    "\n",
    "<img src=\"img16.jpg\">"
   ]
  },
  {
   "cell_type": "code",
   "execution_count": null,
   "metadata": {},
   "outputs": [],
   "source": [
    "# Label the image \"mask\"\n",
    "labels, nlabels = ndi.label(mask)\n",
    "\n",
    "# Select left ventricle pixels\n",
    "lv_val = labels[128, 128]\n",
    "lv_mask = np.where(labels == lv_val, 1, np.nan)\n",
    "\n",
    "# Overlay selected label\n",
    "plt.imshow(lv_mask, cmap='rainbow')\n",
    "plt.show()"
   ]
  },
  {
   "cell_type": "markdown",
   "metadata": {},
   "source": [
    "<b>Output:</b>\n",
    "<img src=\"img17.jpg\">"
   ]
  },
  {
   "cell_type": "markdown",
   "metadata": {},
   "source": [
    "<h2>Extract objects</h2>\n",
    "Extracting objects from the original image eliminates unrelated pixels and provides new images that can be analyzed independently.\n",
    "\n",
    "The key is to crop images so that they only include the object of interest. The range of pixel indices that encompass the object is the bounding box.\n",
    "\n",
    "Here, We will use ndi.find_objects() to create a new image containing only the left ventricle."
   ]
  },
  {
   "cell_type": "code",
   "execution_count": null,
   "metadata": {},
   "outputs": [],
   "source": [
    "# Create left ventricle mask\n",
    "labels, nlabels = ndi.label(mask)\n",
    "lv_val = labels[128, 128]\n",
    "lv_mask = np.where(labels == lv_val, 1, 0)\n",
    "\n",
    "# Find bounding box of left ventricle\n",
    "bboxes = ndi.find_objects(lv_mask)\n",
    "print('Number of objects:', len(bboxes))\n",
    "print('Indices for first box:', bboxes[0])\n",
    "\n",
    "# Crop to the left ventricle (index 0)\n",
    "im_lv = im[bboxes[0]]\n",
    "\n",
    "# Plot the cropped image\n",
    "plt.imshow(im_lv)\n",
    "format_and_render_plot()"
   ]
  },
  {
   "cell_type": "markdown",
   "metadata": {},
   "source": [
    "<b>Output:</b><br>\n",
    "Number of objects: 1<br>\n",
    "Indices for first box: (slice(107, 149, None), slice(116, 162, None))<br>\n",
    "<img src=\"img17.jpg\">\n"
   ]
  },
  {
   "cell_type": "markdown",
   "metadata": {},
   "source": [
    "<h2>Measure variance</h2>\n",
    "SciPy measurement functions allow you to tailor measurements to specific sets of pixels:\n",
    "\n",
    "Specifying 'labels' restricts the mask to non-zero pixels.\n",
    "Specifying 'index' value(s) returns a measure for each label value.\n",
    "For this exercise, calculate the intensity variance of vol with respect to different pixel sets. We have provided the 3D segmented image as labels: label 1 is the left ventricle and label 2 is a circular sample of tissue.\n",
    "<img src=\"gg.gif\">"
   ]
  },
  {
   "cell_type": "code",
   "execution_count": null,
   "metadata": {},
   "outputs": [],
   "source": [
    "# Variance for all pixels\n",
    "var_all = ndi.variance(vol)\n",
    "print('All pixels:', var_all)\n",
    "\n",
    "# Variance for labeled pixels\n",
    "var_labels = ndi.variance(vol, labels)\n",
    "print('Labeled pixels:', var_labels)\n",
    "\n",
    "# Variance for each object\n",
    "var_objects = ndi.variance(vol, labels, index=[1,2])\n",
    "print('Left ventricle:', var_objects[0])\n",
    "print('Other tissue:', var_objects[1])"
   ]
  },
  {
   "cell_type": "markdown",
   "metadata": {},
   "source": [
    "<b>Output:</b><br>\n",
    "All pixels: 840.4457526156154<br>\n",
    "Labeled pixels: 2166.5887761076724<br>\n",
    "Left ventricle: 1123.4641972021984<br>\n",
    "Other tissue: 1972.7151849347783<br>"
   ]
  },
  {
   "cell_type": "markdown",
   "metadata": {},
   "source": [
    "<h2>Separate histograms</h2>\n",
    "A poor tissue segmentation includes multiple tissue types, leading to a wide distribution of intensity values and more variance.\n",
    "\n",
    "On the other hand, a perfectly segmented left ventricle would contain only blood-related pixels, so the histogram of the segmented values should be roughly bell-shaped.\n",
    "\n",
    "Here, we will compare the intensity distributions within vol for the listed sets of pixels. Use ndi.histogram, which also accepts labels and index arguments."
   ]
  },
  {
   "cell_type": "code",
   "execution_count": null,
   "metadata": {},
   "outputs": [],
   "source": [
    "# Create histograms for selected pixels\n",
    "hist1 = ndi.histogram(vol, min=0, max=255, bins=256)\n",
    "hist2 = ndi.histogram(vol, 0, 255, 256, labels=labels)\n",
    "hist3 = ndi.histogram(vol, 0, 255, 256, labels=labels, index=1)\n",
    "\n",
    "# Plot the histogram density\n",
    "plt.plot(hist1 / hist1.sum(), label='All pixels')\n",
    "plt.plot(hist2 / hist2.sum(), label='All labeled pixels')\n",
    "plt.plot(hist3 / hist3.sum(), label='Left ventricle')\n",
    "format_and_render_plot()"
   ]
  },
  {
   "cell_type": "markdown",
   "metadata": {},
   "source": [
    "<b>Output:</b><br>\n",
    "<img src=\"img19.jpg\">\n"
   ]
  },
  {
   "cell_type": "markdown",
   "metadata": {},
   "source": [
    "<h2>Calculate distance</h2>\n",
    "A distance transformation calculates the distance from each pixel to a given point, usually the nearest background pixel. This allows you to determine which points in the object are more interior and which are closer to edges.\n",
    "\n",
    "Here, we will use the Euclidian distance transform on the left ventricle object in labels."
   ]
  },
  {
   "cell_type": "code",
   "execution_count": null,
   "metadata": {},
   "outputs": [],
   "source": [
    "# Calculate left ventricle distances\n",
    "lv = np.where(labels == 1, 1, 0)\n",
    "dists = ndi.distance_transform_edt(lv, sampling = vol.meta['sampling'])\n",
    "\n",
    "# Report on distances\n",
    "print('Max distance (mm):', ndi.maximum(dists))\n",
    "print('Max location:', ndi.maximum_position(dists))\n",
    "\n",
    "# Plot overlay of distances\n",
    "overlay = np.where(dists[5] > 0, dists[5], np.nan) \n",
    "plt.imshow(overlay, cmap='hot')\n",
    "format_and_render_plot()"
   ]
  },
  {
   "cell_type": "markdown",
   "metadata": {},
   "source": [
    "<b>Output:</b><br>\n",
    "Max distance (mm): 16.320510697696196<br>\n",
    "Max location: (5, 129, 137)<br>\n",
    "\n",
    "<img src=\"img20.jpg\">\n"
   ]
  },
  {
   "cell_type": "markdown",
   "metadata": {},
   "source": [
    "<h2>Pinpoint center of mass</h2>\n",
    "The distance transformation reveals the most embedded portions of an object. On the other hand, ndi.center_of_mass() returns the coordinates for the center of an object.\n",
    "\n",
    "The \"mass\" corresponds to intensity values, with higher values pulling the center closer to it.\n",
    "\n",
    "Here,we will calculate the center of mass for the two labeled areas. Then, plot them on top of the image."
   ]
  },
  {
   "cell_type": "code",
   "execution_count": null,
   "metadata": {},
   "outputs": [],
   "source": [
    "# Extract centers of mass for objects 1 and 2\n",
    "coms = ndi.center_of_mass(vol,\n",
    "                       labels, \n",
    "                       index=[1,2])\n",
    "print('Label 1 center:', coms[0])\n",
    "print('Label 2 center:', coms[1])\n",
    "\n",
    "# Add marks to plot\n",
    "for c0, c1, c2 in coms:\n",
    "    plt.scatter(c2, c1, s=100, marker='o')\n",
    "plt.show()"
   ]
  },
  {
   "cell_type": "markdown",
   "metadata": {},
   "source": [
    "<b>Output:</b><br>\n",
    "Label 1 center: (4.9149927898701, 125.72786150646698, 141.42957762070142)<br>\n",
    "Label 2 center: (5.458351990999034, 121.50943176720855, 121.72954667630684)<br>\n",
    "\n",
    "<img src=\"img21.jpg\">\n"
   ]
  },
  {
   "cell_type": "markdown",
   "metadata": {},
   "source": [
    "<h2>Summarize the time series</h2>\n",
    "The ejection fraction is the proportion of blood squeezed out of the left ventricle each heartbeat. To calculate it, radiologists have to identify the maximum volume (systolic volume) and the minimum volume (diastolic volume) of the ventricle.\n",
    "\n",
    "Here we will create a time series of volume calculations. There are 20 time points in both vol_ts and labels. The data is ordered by (time, plane, row, col).\n",
    "\n",
    "<img src=\"gg1.gif\">"
   ]
  },
  {
   "cell_type": "code",
   "execution_count": null,
   "metadata": {},
   "outputs": [],
   "source": [
    "# Create an empty time series\n",
    "ts = np.zeros(20)\n",
    "\n",
    "# Calculate volume at each voxel\n",
    "d0, d1, d2, d3 = vol_ts.meta['sampling']\n",
    "dvoxel = d1*d2*d3\n",
    "\n",
    "# Loop over the labeled arrays\n",
    "for t in range(20):\n",
    "    nvoxels = ndi.sum(1, labels[t], index=1)\n",
    "    ts[t] = nvoxels*dvoxel\n",
    "\n",
    "# Plot the data\n",
    "plt.plot(ts)\n",
    "format_and_render_plot()"
   ]
  },
  {
   "cell_type": "markdown",
   "metadata": {},
   "source": [
    "<b>Output:</b><br>\n",
    "<img src=\"img22.jpg\">"
   ]
  },
  {
   "cell_type": "markdown",
   "metadata": {},
   "source": [
    "<h2>Measure ejection fraction</h2>\n",
    "The ejection fraction is defined as:\n",
    "\n",
    "(Vmax−Vmin)/Vmax\n",
    "\n",
    "...where V is left ventricle volume for one 3D timepoint.\n",
    "\n",
    "To close our investigation, plot slices from the maximum and minimum volumes by analyzing the volume time series (ts). we will calculate the ejection fraction."
   ]
  },
  {
   "cell_type": "code",
   "execution_count": null,
   "metadata": {},
   "outputs": [],
   "source": [
    "# Get index of max and min volumes\n",
    "tmax = np.argmax(ts)\n",
    "tmin = np.argmin(ts)\n",
    "\n",
    "# Plot the largest and smallest volumes\n",
    "fig, axes = plt.subplots(2,1)\n",
    "axes[0].imshow(vol_ts[tmax, 4], vmax=160)\n",
    "axes[1].imshow(vol_ts[tmin, 4], vmax=160)\n",
    "format_and_render_plots()\n",
    "\n",
    "# Calculate ejection fraction\n",
    "ej_vol = ts.max() - ts.min()\n",
    "ej_frac = ej_vol / ts.max()\n",
    "print('Est. ejection volume (mm^3):', ej_vol)\n",
    "print('Est. ejection fraction:', ej_frac)"
   ]
  },
  {
   "cell_type": "markdown",
   "metadata": {},
   "source": [
    "<b>Output:</b><br>\n",
    "<img src=\"img23.jpg\">\n",
    "Est. ejection volume (mm^3): 31268.00536236538<br>\n",
    "Est. ejection fraction: 0.3202054794520548<br>"
   ]
  }
 ],
 "metadata": {
  "kernelspec": {
   "display_name": "Python 3",
   "language": "python",
   "name": "python3"
  },
  "language_info": {
   "codemirror_mode": {
    "name": "ipython",
    "version": 3
   },
   "file_extension": ".py",
   "mimetype": "text/x-python",
   "name": "python",
   "nbconvert_exporter": "python",
   "pygments_lexer": "ipython3",
   "version": "3.6.4"
  }
 },
 "nbformat": 4,
 "nbformat_minor": 2
}

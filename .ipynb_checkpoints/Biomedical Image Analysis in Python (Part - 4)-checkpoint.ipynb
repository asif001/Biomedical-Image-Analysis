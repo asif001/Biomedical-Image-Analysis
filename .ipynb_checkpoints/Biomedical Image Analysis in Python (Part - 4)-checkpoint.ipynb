{
 "cells": [
  {
   "cell_type": "markdown",
   "metadata": {},
   "source": [
    "<h1>Biomedical Image Analysis in Python (Part - 4)</h1>\n",
    "<h3>by Sakib Reza<h3>\n",
    "\n",
    "<h2>Translations</h2>\n",
    "Here, we'll leverage data use data from the Open Access Series of Imaging Studies to compare the brains of different populations: young and old, male and female, healthy and diseased.\n",
    "\n",
    "To start, center a single slice of a 3D brain volume (im). First, find the center point in the image array and the center of mass of the brain. Then, translate the image to the center."
   ]
  },
  {
   "cell_type": "code",
   "execution_count": null,
   "metadata": {},
   "outputs": [],
   "source": [
    "import imageio\n",
    "import numpy as np\n",
    "import scipy.ndimage as ndi\n",
    "import matplotlib.pyplot as plt\n",
    "\n",
    "# Find image center of mass\n",
    "com = ndi.center_of_mass(im)\n",
    "\n",
    "# Calculate amount of shift needed\n",
    "d0 = 128 - com[0]\n",
    "d1 = 128 - com[1]\n",
    "\n",
    "# Translate the brain towards the center\n",
    "xfm = ndi.shift(im, shift=(d0, d1))\n",
    "\n",
    "# Plot the original and adjusted images\n",
    "fig, axes = plt.subplots(2,1)\n",
    "axes[0].imshow(im)\n",
    "axes[1].imshow(xfm)\n",
    "format_and_render_plot()"
   ]
  },
  {
   "cell_type": "markdown",
   "metadata": {},
   "source": [
    "<b>Output:</b><br>\n",
    "<img src=\"img24.jpg\">"
   ]
  },
  {
   "cell_type": "markdown",
   "metadata": {},
   "source": [
    "<h2>Rotations</h2>\n",
    "In cases where an object is angled or flipped, the image can be rotated. Using ndi.rotate(), the image is rotated from its center by the specified degrees from the right horizontal axis.\n",
    "\n",
    "Here, we will shift and rotate the brain image (im) so that it is roughly level and \"facing\" the right side of the image."
   ]
  },
  {
   "cell_type": "code",
   "execution_count": null,
   "metadata": {},
   "outputs": [],
   "source": [
    "# Shift the image towards the center\n",
    "xfm = ndi.shift(im, shift=(-20,-20))\n",
    "\n",
    "# Rotate the shifted image\n",
    "xfm = ndi.rotate(xfm, angle=-30, reshape=False)\n",
    "\n",
    "# Plot the original and rotated images\n",
    "fig, axes = plt.subplots(2, 1)\n",
    "axes[0].imshow(im)\n",
    "axes[1].imshow(xfm)\n",
    "format_and_render_plot()"
   ]
  },
  {
   "cell_type": "markdown",
   "metadata": {},
   "source": [
    "<b>Output:</b><br>\n",
    "<img src=\"img25.jpg\">"
   ]
  },
  {
   "cell_type": "markdown",
   "metadata": {},
   "source": [
    "<h2>Resampling</h2>\n",
    "Images can be collected in a variety of shapes and sizes. Resampling is a useful tool when these shapes need to be made consistent. Two common applications are:\n",
    "\n",
    "Downsampling: combining pixel data to decrease size\n",
    "Upsampling: distributing pixel data to increase size\n",
    "\n",
    "Here, we will transform and then resample the brain image (im) to see how it affects image shape."
   ]
  },
  {
   "cell_type": "code",
   "execution_count": null,
   "metadata": {},
   "outputs": [],
   "source": [
    "# Center and level image\n",
    "xfm = ndi.shift(im, shift=(-20,-20))\n",
    "xfm = ndi.rotate(xfm, angle=-35, reshape=False)\n",
    "\n",
    "# Resample image\n",
    "im_dn = ndi.zoom(xfm, zoom=0.25)\n",
    "im_up = ndi.zoom(xfm, zoom=4)\n",
    "\n",
    "# Plot the images\n",
    "fig, axes = plt.subplots(2, 1)\n",
    "axes[0].imshow(im_dn)\n",
    "axes[1].imshow(im_up)\n",
    "format_and_render_plot()"
   ]
  },
  {
   "cell_type": "markdown",
   "metadata": {},
   "source": [
    "<b>Output:</b><br>\n",
    "<img src=\"img26.jpg\">"
   ]
  },
  {
   "cell_type": "markdown",
   "metadata": {},
   "source": [
    "<h2>Interpolation</h2>\n",
    "Interpolation is how new pixel intensities are estimated when an image transformation is applied. It is implemented in SciPy using sets of spline functions.\n",
    "\n",
    "Editing the interpolation order when using a function such as ndi.zoom() modifies the resulting estimate: higher orders provide more flexible estimates but take longer to compute.\n",
    "\n",
    "Here, we will upsample im and investigate the effect of different interpolation orders on the resulting image."
   ]
  },
  {
   "cell_type": "code",
   "execution_count": null,
   "metadata": {},
   "outputs": [],
   "source": [
    "# Upsample \"im\" by a factor of 4\n",
    "up0 = ndi.zoom(im, zoom=4, order=0)\n",
    "up5 = ndi.zoom(im, zoom=4, order=5)\n",
    "\n",
    "# Print original and new shape\n",
    "print('Original shape:', im.shape)\n",
    "print('Upsampled shape:', up0.shape)\n",
    "\n",
    "# Plot close-ups of the new images\n",
    "fig, axes = plt.subplots(1, 2)\n",
    "axes[0].imshow(up0[128:256, 128:256])\n",
    "axes[1].imshow(up5[128:256, 128:256])\n",
    "format_and_render_plots()"
   ]
  },
  {
   "cell_type": "markdown",
   "metadata": {},
   "source": [
    "<b>Output:</b><br>\n",
    "Original shape: (128, 128)<br>\n",
    "Upsampled shape: (512, 512)<br>\n",
    "<img src=\"img27.jpg\">"
   ]
  },
  {
   "cell_type": "markdown",
   "metadata": {},
   "source": [
    "<h2>Mean Absolute Error</h2>\n",
    "Cost functions and objective functions output a single value that summarizes how well two images match.\n",
    "\n",
    "The mean absolute error (MAE), for example, summarizes intensity differences between two images, with higher values indicating greater divergence.\n",
    "\n",
    "Here, we will calculate the mean absolute error between im1 and im2 step-by-step."
   ]
  },
  {
   "cell_type": "code",
   "execution_count": null,
   "metadata": {},
   "outputs": [],
   "source": [
    "# Calculate absolute image difference\n",
    "abs_err = np.abs(im1 - im2)\n",
    "\n",
    "# Plot the difference\n",
    "plt.imshow(abs_err, cmap='seismic', vmin=-200, vmax=200)\n",
    "format_and_render_plot()\n",
    "\n",
    "# Calculate mean absolute error\n",
    "mean_abs_err = np.mean(np.abs(im1 - im2))\n",
    "print('MAE:', mean_abs_err)"
   ]
  },
  {
   "cell_type": "markdown",
   "metadata": {},
   "source": [
    "<b>Output:</b><br>\n",
    "<img src=\"img28.jpg\">\n",
    "MAE: 9.2608642578125"
   ]
  },
  {
   "cell_type": "markdown",
   "metadata": {},
   "source": [
    "<h2>Identifying Potential Confounds</h2>\n",
    "Once measures have been extracted, double-check for dependencies within your data. This is especially true if any image parameters (sampling rate, field of view) might differ between subjects, or you pull multiple measures from a single image.\n",
    "\n",
    "For the final exercises, we have combined demographic and brain volume measures into a pandas DataFrame (df).\n",
    "\n",
    "Here, we will explore the table and available variables. Then, you will check for correlations between the data."
   ]
  },
  {
   "cell_type": "code",
   "execution_count": null,
   "metadata": {},
   "outputs": [],
   "source": [
    "# Print random sample of rows\n",
    "print(df.sample(3))\n",
    "\n",
    "# Print prevalence of Alzheimer's Disease\n",
    "print(df.alzheimers.value_counts())\n",
    "\n",
    "# Print a correlation table\n",
    "print(df.corr())"
   ]
  },
  {
   "cell_type": "raw",
   "metadata": {},
   "source": [
    "Output:       \n",
    "       age sex  alzheimers  brain_vol    skull_vol\n",
    "OAS1_0456   61   M       False   1038.965  1587.330441\n",
    "OAS1_0205   75   M        True   1054.239  2001.081252\n",
    "OAS1_0139   72   F       False    992.745  1426.763689\n",
    "False    94\n",
    "True     93\n",
    "Name: alzheimers, dtype: int64\n",
    "                 age  alzheimers  brain_vol  skull_vol\n",
    "age         1.000000    0.037490  -0.328220   0.027456\n",
    "alzheimers  0.037490    1.000000  -0.142961   0.162899\n",
    "brain_vol  -0.328220   -0.142961   1.000000   0.690489\n",
    "skull_vol   0.027456    0.162899   0.690489   1.000000"
   ]
  },
  {
   "cell_type": "markdown",
   "metadata": {},
   "source": [
    "<h2>Testing Group Differences</h2>\n",
    "Let's test the hypothesis that Alzheimer's Disease is characterized by reduced brain volume.\n",
    "\n",
    "Sample Segmentations of Alzheimer's and Typical Subject\n",
    "\n",
    "We can perform a two-sample t-test between the brain volumes of elderly adults with and without Alzheimer's Disease. In this case, the two population samples are independent from each other because they are all separate subjects.\n",
    "\n",
    "Here, we will use the OASIS dataset (df) and ttest_ind to evaluate the hypothesis."
   ]
  },
  {
   "cell_type": "code",
   "execution_count": null,
   "metadata": {},
   "outputs": [],
   "source": [
    "# Import independent two-sample t-test\n",
    "from scipy.stats import ttest_ind\n",
    "\n",
    "# Select data from \"alzheimers\" and \"typical\" groups\n",
    "brain_alz = df.loc[df.alzheimers == True, 'brain_vol']\n",
    "brain_typ = df.loc[df.alzheimers == False, 'brain_vol']\n",
    "\n",
    "# Perform t-test of \"alz\" > \"typ\"\n",
    "results = ttest_ind(brain_alz, brain_typ)\n",
    "print('t = ', results.statistic)\n",
    "print('p = ', results.pvalue)\n",
    "\n",
    "# Show boxplot of brain_vol differences\n",
    "df.boxplot(column='brain_vol', by='alzheimers')\n",
    "plt.show()"
   ]
  },
  {
   "cell_type": "markdown",
   "metadata": {},
   "source": [
    "<b>Output:</b><br>\n",
    "t =  -1.9646603431952554<br>\n",
    "p =  0.050951046028341454<br>\n",
    "<img src=\"img29.jpg\">"
   ]
  },
  {
   "cell_type": "markdown",
   "metadata": {},
   "source": [
    "<h2>Normalizing Metrics</h2>\n",
    "We previously saw that there was not a significant difference between the brain volumes of elderly individuals with and without Alzheimer's Disease.\n",
    "\n",
    "But could a correlated measure, such as \"skull volume\" be masking the differences?\n",
    "\n",
    "Here, we will calculate a new test statistic for the comparison of brain volume between groups, after adjusting for the subject's skull size."
   ]
  },
  {
   "cell_type": "code",
   "execution_count": null,
   "metadata": {},
   "outputs": [],
   "source": [
    "# Import independent two-sample t-test\n",
    "from scipy.stats import ttest_ind\n",
    "\n",
    "# Adjust `brain_vol` by `skull_vol`\n",
    "df['adj_brain_vol'] = df.brain_vol / df.skull_vol\n",
    "\n",
    "# Select brain measures by group\n",
    "brain_alz = df.loc[df.alzheimers == True, 'adj_brain_vol']\n",
    "brain_typ = df.loc[df.alzheimers == False, 'adj_brain_vol']\n",
    "\n",
    "# Evaluate null hypothesis\n",
    "results = ttest_ind(brain_alz, brain_typ)"
   ]
  }
 ],
 "metadata": {
  "kernelspec": {
   "display_name": "Python 3",
   "language": "python",
   "name": "python3"
  },
  "language_info": {
   "codemirror_mode": {
    "name": "ipython",
    "version": 3
   },
   "file_extension": ".py",
   "mimetype": "text/x-python",
   "name": "python",
   "nbconvert_exporter": "python",
   "pygments_lexer": "ipython3",
   "version": "3.6.4"
  }
 },
 "nbformat": 4,
 "nbformat_minor": 2
}

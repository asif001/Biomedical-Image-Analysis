{
 "cells": [
  {
   "cell_type": "markdown",
   "metadata": {},
   "source": [
    "<h1>Biomedical Image Analysis in Python</h1> \n",
    "<h2>by Sakib Reza</h2>\n",
    "<a href=\"https://www.linkedin.com/in/sakibreza/\" target=\"_blank\"><img src=\"logo.png\" width=\"150\" align=\"left\"></a><br><br><br>\n",
    "<img src=\"gg.gif\" width=\"250\"><br>\n",
    "In this site I have tried to cover the fundamentals of image analysis using NumPy, SciPy, and Matplotlib. All the contents are adopted from the datacamp course - <a href=\"https://www.datacamp.com/courses/biomedical-image-analysis-in-python\" target=\"_blank\">Biomedical Image Analysis in Python</a> (mainly from the exercises and its solution of mine).Here I have navigated through whole-body CT scan, segmented a cardiac MRI time series, and determined whether Alzheimer’s disease changes brain structure.\n",
    "\n",
    "All the contents can also be found in github. If you wish you can star/fork my repository - https://github.com/sakibreza/Biomedical-Image-Analysis"
   ]
  },
  {
   "cell_type": "markdown",
   "metadata": {},
   "source": [
    "<h2>Index</h2>\n",
    "<h3><a href=\"part1\" target=\"_blank\">Biomedical Image Analysis in Python (Part - 1)</a></h3>\n",
    "- Image Loading\n",
    "- Metadata \n",
    "- Image Plotting\n",
    "- Stack Images\n",
    "- Load Volumes\n",
    "- Generating Subplots\n",
    "- Slice 3D Images\n",
    "- Plot Other Views"
   ]
  },
  {
   "cell_type": "markdown",
   "metadata": {},
   "source": [
    "<h3><a href=\"part2\" target=\"_blank\">Biomedical Image Analysis in Python (Part - 2)</a></h3>\n",
    "- Intensity\n",
    "- Histograms\n",
    "- Create a mask\n",
    "- Apply a mask\n",
    "- Tune a mask\n",
    "- Filter Convolutions\n",
    "- Smoothing\n",
    "- Detect Edges (1)\n",
    "- Detect Edges (2)"
   ]
  },
  {
   "cell_type": "markdown",
   "metadata": {},
   "source": [
    "<h3><a href=\"part3\" target=\"_blank\">Biomedical Image Analysis in Python (Part - 3)</a></h3>\n",
    "- Segment the Heart\n",
    "- Select objects\n",
    "- Extract objects\n",
    "- Measure variance\n",
    "- Separate histograms\n",
    "- Calculate distance\n",
    "- Summarize the time series\n",
    "- Measure ejection fraction"
   ]
  },
  {
   "cell_type": "markdown",
   "metadata": {},
   "source": [
    "<h3><a href=\"part4\" target=\"_blank\">Biomedical Image Analysis in Python (Part - 4)</a></h3>\n",
    "- Translations\n",
    "- Rotations\n",
    "- Resampling\n",
    "- Interpolation\n",
    "- Mean Absolute Error\n",
    "- Identifying Potential Confounds\n",
    "- Testing Group Differences\n",
    "- Normalizing Metrics"
   ]
  },
  {
   "cell_type": "markdown",
   "metadata": {},
   "source": [
    "-"
   ]
  },
  {
   "cell_type": "markdown",
   "metadata": {},
   "source": [
    "<i>Send feedback - sakibreza1@gmail.com</i>"
   ]
  }
 ],
 "metadata": {
  "kernelspec": {
   "display_name": "Python 3",
   "language": "python",
   "name": "python3"
  },
  "language_info": {
   "codemirror_mode": {
    "name": "ipython",
    "version": 3
   },
   "file_extension": ".py",
   "mimetype": "text/x-python",
   "name": "python",
   "nbconvert_exporter": "python",
   "pygments_lexer": "ipython3",
   "version": "3.6.4"
  }
 },
 "nbformat": 4,
 "nbformat_minor": 2
}

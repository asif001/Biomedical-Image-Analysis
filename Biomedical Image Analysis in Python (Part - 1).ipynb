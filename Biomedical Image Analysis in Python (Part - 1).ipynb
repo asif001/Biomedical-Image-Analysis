{
 "cells": [
  {
   "cell_type": "markdown",
   "metadata": {},
   "source": [
    "<h1>Biomedical Image Analysis in Python (Part - 1)</h1>\n",
    "<h3>by Sakib Reza<h3>\n",
    "<h2>Biomedical image loading</h2> <br>\n",
    "Biomedical images are generally found in DICOM image format (.dcm). Here a sample .dcm image from a <b>computed tomography (CT) scan</b> from <b>The Cancer Imaging Archive</b> is loaded into a image object using imageIO python package -"
   ]
  },
  {
   "cell_type": "code",
   "execution_count": null,
   "metadata": {},
   "outputs": [],
   "source": [
    "# Import ImageIO\n",
    "import imageio\n",
    "\n",
    "# Load \"chest-220.dcm\"\n",
    "im = imageio.imread(\"chest-220.dcm\")\n",
    "\n",
    "# Print image attributes\n",
    "print('Image type:', type(im))\n",
    "print('Shape of image array:', im.shape)"
   ]
  },
  {
   "cell_type": "markdown",
   "metadata": {},
   "source": [
    "<b>output:</b> <br>\n",
    "Image type: <class 'imageio.core.util.Image'> <br>\n",
    "Shape of image array: (512, 512)"
   ]
  },
  {
   "cell_type": "markdown",
   "metadata": {},
   "source": [
    "<h2>Metadata for image</h2> <br>\n",
    "ImageIO reads in data as Image objects. These are standard NumPy arrays with a dictionary of metadata.<br>\n",
    "Metadata can be quite rich in medical images and can include:<br>\n",
    "Patient demographics: name, age, sex, clinical information\n",
    "<br>Acquisition information: image shape, sampling rates, data type, modality (such as X-Ray, CT or MRI)\n",
    "Start this exercise by reading in the chest image and listing the available fields in the meta dictionary."
   ]
  },
  {
   "cell_type": "code",
   "execution_count": null,
   "metadata": {},
   "outputs": [],
   "source": [
    "# Import ImageIO\n",
    "import imageio\n",
    "im = imageio.imread('chest-220.dcm')\n",
    "\n",
    "# Print the available metadata fields\n",
    "print(im.meta.keys())"
   ]
  },
  {
   "cell_type": "markdown",
   "metadata": {},
   "source": [
    "<b>output:</b> <br>\n",
    "    odict_keys(['PixelSpacing', 'SOPInstanceUID', 'SamplesPerPixel', 'Manufacturer', 'SeriesTime', 'RescaleSlope', 'ContentDate', 'BitsStored', 'SeriesDescription', 'RescaleIntercept', 'SeriesInstanceUID', 'StudyDescription', 'PatientName', 'SeriesNumber', 'SeriesDate', 'StudyInstanceUID', 'BitsAllocated', 'Rows', 'PatientID', 'PatientBirthDate', 'PatientSex', 'StudyDate', 'PixelData', 'TransferSyntaxUID', 'SOPClassUID', 'ImageOrientationPatient', 'PatientWeight', 'ContentTime', 'PixelRepresentation', 'sampling', 'HighBit', 'InstanceNumber', 'StudyTime', 'shape', 'ImagePositionPatient', 'Columns', 'Modality', 'AcquisitionNumber'])\n"
   ]
  },
  {
   "cell_type": "markdown",
   "metadata": {},
   "source": [
    "<h2>Image Plotting</h2>"
   ]
  },
  {
   "cell_type": "markdown",
   "metadata": {},
   "source": [
    "First of all we will <b>read the image</b> -"
   ]
  },
  {
   "cell_type": "code",
   "execution_count": null,
   "metadata": {},
   "outputs": [],
   "source": [
    "# Import ImageIO and PyPlot \n",
    "import imageio\n",
    "import matplotlib.pyplot as plt\n",
    "\n",
    "# Read in \"chest-220.dcm\"\n",
    "im = imageio.imread(\"chest-220.dcm\")"
   ]
  },
  {
   "cell_type": "markdown",
   "metadata": {},
   "source": [
    "Then the image is <b>converted into grayscal</b> - "
   ]
  },
  {
   "cell_type": "code",
   "execution_count": null,
   "metadata": {},
   "outputs": [],
   "source": [
    "# Draw the image in grayscale\n",
    "plt.imshow(im, cmap='gray')"
   ]
  },
  {
   "cell_type": "markdown",
   "metadata": {},
   "source": [
    "After that we will set vmin=-200 and vmax=200 to <b>increase the contrast</b> (i.e., the distance between the brightest and darkest colors is smaller than before)."
   ]
  },
  {
   "cell_type": "code",
   "execution_count": null,
   "metadata": {},
   "outputs": [],
   "source": [
    "# Draw the image with greater contrast\n",
    "plt.imshow(im, cmap='gray', vmin=-200, vmax=200)"
   ]
  },
  {
   "cell_type": "markdown",
   "metadata": {},
   "source": [
    "Finally, we will <b>remove all axis ticks and labels</b> and <b>render the image</b>"
   ]
  },
  {
   "cell_type": "code",
   "execution_count": null,
   "metadata": {},
   "outputs": [],
   "source": [
    "# Remove axis ticks and labels\n",
    "plt.axis('off')\n",
    "\n",
    "# Render the image\n",
    "plt.show()"
   ]
  },
  {
   "cell_type": "markdown",
   "metadata": {},
   "source": [
    "<b>Output:</b>\n",
    "<img src=\"img1.JPG\">"
   ]
  },
  {
   "cell_type": "markdown",
   "metadata": {},
   "source": [
    "<h2>Stack Images</h2>\n",
    "Image \"stacks\" are a useful metaphor for understanding multi-dimensional data. Each higher dimension is a stack of lower dimensional arrays.Here we will stack up three sample biomedical images using numpy's stack() function -"
   ]
  },
  {
   "cell_type": "code",
   "execution_count": null,
   "metadata": {},
   "outputs": [],
   "source": [
    "# Import ImageIO and NumPy\n",
    "import imageio\n",
    "import numpy as np\n",
    "\n",
    "# Read in each 2D image\n",
    "im1 = imageio.imread('chest-220.dcm')\n",
    "im2 = imageio.imread('chest-221.dcm')\n",
    "im3 = imageio.imread('chest-222.dcm')\n",
    "\n",
    "# Stack images into a volume\n",
    "vol = np.stack([im1, im2, im3], axis=0)\n",
    "print('Volume dimensions:', vol.shape)"
   ]
  },
  {
   "cell_type": "markdown",
   "metadata": {},
   "source": [
    "<b>output:</b><br>\n",
    "    Volume dimensions: (3, 512, 512)"
   ]
  },
  {
   "cell_type": "markdown",
   "metadata": {},
   "source": [
    "<h2>Load Volumes</h2>\n",
    "ImageIO's volread() function can load multi-dimensional datasets and create 3D volumes from a folder of images. It can also aggregate metadata across these multiple images.<br>\n",
    "\n",
    "For this exercise, read in an entire volume of brain data from the \"tcia-chest-ct\" folder, which contains 25 DICOM images."
   ]
  },
  {
   "cell_type": "code",
   "execution_count": null,
   "metadata": {},
   "outputs": [],
   "source": [
    "# Import ImageIO\n",
    "import imageio\n",
    "\n",
    "# Load the \"tcia-chest-ct\" directory\n",
    "vol = imageio.volread(\"tcia-chest-ct\")\n",
    "\n",
    "# Print image attributes\n",
    "print('Available metadata:', vol.meta.keys())\n",
    "print('Shape of image array:', vol.shape)"
   ]
  },
  {
   "cell_type": "markdown",
   "metadata": {},
   "source": [
    "<b>output:</b><br>\n",
    "Reading DICOM (examining files): 1/25 files (4.0%)\b\b\b\b\b\b\b\b\b\b\b\b\b\b\b\b\b25/25 files (100.0%)<br>\n",
    "      Found 1 correct series.<br>\n",
    "    Reading DICOM (loading data): 25/25  (100.0%)<br>\n",
    "    Available metadata: odict_keys(['ImageOrientationPatient', 'Rows', 'SeriesTime', 'SeriesDescription', 'PatientSex', 'SOPInstanceUID', 'AcquisitionNumber', 'RescaleSlope', 'BitsStored', 'InstanceNumber', 'HighBit', 'BitsAllocated', 'SeriesDate', 'SamplesPerPixel', 'PixelRepresentation', 'SeriesNumber', 'PatientBirthDate', 'sampling', 'ContentDate', 'RescaleIntercept', 'SOPClassUID', 'StudyTime', 'SeriesInstanceUID', 'StudyDescription', 'PatientID', 'Manufacturer', 'PatientWeight', 'TransferSyntaxUID', 'Modality', 'ContentTime', 'PixelSpacing', 'Columns', 'ImagePositionPatient', 'StudyDate', 'shape', 'PatientName', 'StudyInstanceUID', 'PixelData'])\n",
    "    Shape of image array: (25, 512, 512)"
   ]
  },
  {
   "cell_type": "markdown",
   "metadata": {},
   "source": [
    "<h2>Generating Subplots</h2>\n",
    "We can draw multiple images in one figure to explore data quickly. Use plt.subplots() to generate an array of subplots."
   ]
  },
  {
   "cell_type": "code",
   "execution_count": null,
   "metadata": {},
   "outputs": [],
   "source": [
    "# Import PyPlot\n",
    "import matplotlib.pyplot as plt\n",
    "\n",
    "# Initialize figure and axes grid\n",
    "fig, axes = plt.subplots(nrows=2, ncols=1)\n",
    "\n",
    "# Draw an image on each subplot\n",
    "axes[0].imshow(im1, cmap='gray')\n",
    "axes[1].imshow(im2, cmap='gray')\n",
    "\n",
    "# Remove ticks/labels and render\n",
    "axes[0].axis('off')\n",
    "axes[1].axis('off')\n",
    "plt.show()"
   ]
  },
  {
   "cell_type": "markdown",
   "metadata": {},
   "source": [
    "<b>Output:</b>\n",
    "<img src=\"img2.JPG\">"
   ]
  },
  {
   "cell_type": "markdown",
   "metadata": {},
   "source": [
    "<h2>Slice 3D Images</h2>\n",
    "The simplest way to plot 3D and 4D images by slicing them into many 2D frames. Plotting many slices sequentially can create a \"fly-through\" effect that helps you understand the image as a whole.<br>\n",
    "To select a 2D frame, pick a frame for the first axis and select all data from the remaining two: vol[0, :, :].\n",
    "For this exercise, use for loop to plot every 40th slice of vol on a separate subplot. matplotlib.pyplot (as plt) has been imported for you."
   ]
  },
  {
   "cell_type": "code",
   "execution_count": null,
   "metadata": {},
   "outputs": [],
   "source": [
    "# Plot the images on a subplots array \n",
    "fig, axes = plt.subplots(nrows=1, ncols=4)\n",
    "\n",
    "# Loop through subplots and draw image\n",
    "for ii in range(4):\n",
    "    im = vol[ii*40,:,:]\n",
    "    axes[ii].imshow(im, cmap='gray')\n",
    "    axes[ii].axis('off')\n",
    "    \n",
    "# Render the figure\n",
    "plt.show()"
   ]
  },
  {
   "cell_type": "markdown",
   "metadata": {},
   "source": [
    "<b>Output:</b>\n",
    "<img src=\"img3.JPG\">"
   ]
  },
  {
   "cell_type": "markdown",
   "metadata": {},
   "source": [
    "<h2>Plot Other Views</h2>\n",
    "Any two dimensions of an array can form an image, and slicing along different axes can provide a useful perspective. However, unequal sampling rates can create distorted images.<br>\n",
    "Changing the aspect ratio can address this by increasing the width of one of the dimensions.\n",
    "For this exercise, plot images that slice along the second and third dimensions of vol. Explicitly set the aspect ratio to generate undistorted images."
   ]
  },
  {
   "cell_type": "code",
   "execution_count": null,
   "metadata": {},
   "outputs": [],
   "source": [
    "# Select frame from \"vol\"\n",
    "im1 = vol[:, 256, :]\n",
    "im2 = vol[:, :, 256]\n",
    "\n",
    "# Compute aspect ratios\n",
    "d0, d1, d2 = vol.meta['sampling']\n",
    "asp1 = d0 / d2\n",
    "asp2 = d0 / d1\n",
    "\n",
    "# Plot the images on a subplots array \n",
    "fig, axes = plt.subplots(nrows=2, ncols=1)\n",
    "axes[0].imshow(im1, cmap='gray', aspect=asp1)\n",
    "axes[1].imshow(im2, cmap='gray', aspect=asp2)\n",
    "plt.show()"
   ]
  },
  {
   "cell_type": "markdown",
   "metadata": {},
   "source": [
    "<b>Output:</b>\n",
    "<img src=\"img4.JPG\">"
   ]
  }
 ],
 "metadata": {
  "kernelspec": {
   "display_name": "Python 3",
   "language": "python",
   "name": "python3"
  },
  "language_info": {
   "codemirror_mode": {
    "name": "ipython",
    "version": 3
   },
   "file_extension": ".py",
   "mimetype": "text/x-python",
   "name": "python",
   "nbconvert_exporter": "python",
   "pygments_lexer": "ipython3",
   "version": "3.6.4"
  }
 },
 "nbformat": 4,
 "nbformat_minor": 2
}
